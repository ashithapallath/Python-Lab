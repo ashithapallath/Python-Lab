{
  "nbformat": 4,
  "nbformat_minor": 0,
  "metadata": {
    "colab": {
      "name": "Untitled8.ipynb",
      "provenance": [],
      "authorship_tag": "ABX9TyM+KdpabYG3WT5BSG63EwR1",
      "include_colab_link": true
    },
    "kernelspec": {
      "name": "python3",
      "display_name": "Python 3"
    },
    "language_info": {
      "name": "python"
    }
  },
  "cells": [
    {
      "cell_type": "markdown",
      "metadata": {
        "id": "view-in-github",
        "colab_type": "text"
      },
      "source": [
        "<a href=\"https://colab.research.google.com/github/ashithapallath/Python-Lab/blob/main/Untitled8.ipynb\" target=\"_parent\"><img src=\"https://colab.research.google.com/assets/colab-badge.svg\" alt=\"Open In Colab\"/></a>"
      ]
    },
    {
      "cell_type": "markdown",
      "source": [
        "1.Reverse of a given number"
      ],
      "metadata": {
        "id": "y96Rv5EJF7i8"
      }
    },
    {
      "cell_type": "code",
      "source": [
        "a=int(input('Enter a number : '))\n",
        "revnum=0\n",
        "print('Entered number is : ',a)\n",
        "while(a>=1):\n",
        "  x=a%10\n",
        "  revnum=(revnum*10)+x\n",
        "  a=int(a/10)\n",
        "print('Revers number is ',revnum)"
      ],
      "metadata": {
        "colab": {
          "base_uri": "https://localhost:8080/"
        },
        "id": "vxhxB0SHGBSj",
        "outputId": "dcc761ba-bbf9-41e8-a67d-9e0d128ce367"
      },
      "execution_count": null,
      "outputs": [
        {
          "output_type": "stream",
          "name": "stdout",
          "text": [
            "Enter a number : 123\n",
            "Entered number is :  123\n",
            "Revers number is  321\n"
          ]
        }
      ]
    },
    {
      "cell_type": "markdown",
      "source": [
        "2.Sum of first N natural number"
      ],
      "metadata": {
        "id": "fTNOA_OQGoxn"
      }
    },
    {
      "cell_type": "code",
      "source": [
        "n=int(input('Enter the Nth natural number'))\n",
        "print('Sum is ',n*(n+1)/2)"
      ],
      "metadata": {
        "colab": {
          "base_uri": "https://localhost:8080/"
        },
        "id": "TiLkcPLpGs_s",
        "outputId": "26326fa2-afb7-4c52-b7ba-0e0dbebcfb9e"
      },
      "execution_count": null,
      "outputs": [
        {
          "output_type": "stream",
          "name": "stdout",
          "text": [
            "Enter the Nth natural number100\n",
            "Sum is  5050.0\n"
          ]
        }
      ]
    },
    {
      "cell_type": "markdown",
      "source": [
        "3.Sum of factors of a number"
      ],
      "metadata": {
        "id": "lh1rVTOJG0aB"
      }
    },
    {
      "cell_type": "code",
      "source": [
        "num=int(input('Enter a number : '))\n",
        "print('Entered number is : ',num)\n",
        "sum = 0\n",
        "c = 2\n",
        "while(c<=num/2+1):\n",
        "  if(num%c==0):\n",
        "    sum=sum+c\n",
        "  c=c+1\n",
        "print('Sum of factor is : ',sum)"
      ],
      "metadata": {
        "colab": {
          "base_uri": "https://localhost:8080/"
        },
        "id": "Rjk3vIGOG53p",
        "outputId": "465d8950-7a22-4c05-a141-86bd3fa49dac"
      },
      "execution_count": null,
      "outputs": [
        {
          "output_type": "stream",
          "name": "stdout",
          "text": [
            "Enter a number : 16\n",
            "Entered number is :  16\n",
            "Sum of factor is :  14\n"
          ]
        }
      ]
    },
    {
      "cell_type": "markdown",
      "source": [
        "4.To print N terms of an arithmetic sequence"
      ],
      "metadata": {
        "id": "bV0T4Eu8HDBp"
      }
    },
    {
      "cell_type": "code",
      "source": [
        "f=float(input('Enter the first number :'))\n",
        "d=float(input('Enter the common difference'))\n",
        "n=float(input('Enter the number of terms'))\n",
        "c=1\n",
        "while(c<=n):\n",
        "  term=f+((c-1)*d)\n",
        "  print(term)\n",
        "  c=c+1"
      ],
      "metadata": {
        "colab": {
          "base_uri": "https://localhost:8080/"
        },
        "id": "WiGntkefHOSN",
        "outputId": "28472848-74cb-4f70-f73f-154a7399fdfd"
      },
      "execution_count": null,
      "outputs": [
        {
          "output_type": "stream",
          "name": "stdout",
          "text": [
            "Enter the first number :20\n",
            "Enter the common difference3\n",
            "Enter the number of terms10\n",
            "20.0\n",
            "23.0\n",
            "26.0\n",
            "29.0\n",
            "32.0\n",
            "35.0\n",
            "38.0\n",
            "41.0\n",
            "44.0\n",
            "47.0\n"
          ]
        }
      ]
    },
    {
      "cell_type": "markdown",
      "source": [
        "5.To print N terms of fibonacci series"
      ],
      "metadata": {
        "id": "L9anSmlHHZry"
      }
    },
    {
      "cell_type": "code",
      "source": [
        "n=int(input('Enter the number of terms :'))\n",
        "n1=0\n",
        "n2=1\n",
        "if(n==1):\n",
        "  print(n1)\n",
        "elif(n==2):\n",
        "  print(n1)\n",
        "  print(n2)\n",
        "else:\n",
        "  print(n1)\n",
        "  print(n2)\n",
        "  while(n>2):\n",
        "    temp=n1\n",
        "    n1=n2\n",
        "    n2=n2+temp\n",
        "    print(n2)\n",
        "    n=n-1"
      ],
      "metadata": {
        "colab": {
          "base_uri": "https://localhost:8080/"
        },
        "id": "w_4sjPV2HgFD",
        "outputId": "8ffb99b3-cf12-478d-a31c-bd38e6fc5629"
      },
      "execution_count": null,
      "outputs": [
        {
          "output_type": "stream",
          "name": "stdout",
          "text": [
            "Enter the number of terms :50\n",
            "0\n",
            "1\n",
            "1\n",
            "2\n",
            "3\n",
            "5\n",
            "8\n",
            "13\n",
            "21\n",
            "34\n",
            "55\n",
            "89\n",
            "144\n",
            "233\n",
            "377\n",
            "610\n",
            "987\n",
            "1597\n",
            "2584\n",
            "4181\n",
            "6765\n",
            "10946\n",
            "17711\n",
            "28657\n",
            "46368\n",
            "75025\n",
            "121393\n",
            "196418\n",
            "317811\n",
            "514229\n",
            "832040\n",
            "1346269\n",
            "2178309\n",
            "3524578\n",
            "5702887\n",
            "9227465\n",
            "14930352\n",
            "24157817\n",
            "39088169\n",
            "63245986\n",
            "102334155\n",
            "165580141\n",
            "267914296\n",
            "433494437\n",
            "701408733\n",
            "1134903170\n",
            "1836311903\n",
            "2971215073\n",
            "4807526976\n",
            "7778742049\n"
          ]
        }
      ]
    },
    {
      "cell_type": "markdown",
      "source": [
        "6.To check the number is paliandrome or not"
      ],
      "metadata": {
        "id": "18_pvnuCHomF"
      }
    },
    {
      "cell_type": "code",
      "source": [
        "revnum=0\n",
        "num=int(input('Enter a number :'))\n",
        "n=num\n",
        "while(n>=1):\n",
        "  x=n%10\n",
        "  revnum=(revnum*10)+x\n",
        "  n=n//10\n",
        "print('Reverse number is : ',revnum)\n",
        "if(num==revnum):\n",
        "  print('It is a palliandome number')\n",
        "else:\n",
        "  print('It is not a palliandrome number')"
      ],
      "metadata": {
        "colab": {
          "base_uri": "https://localhost:8080/"
        },
        "id": "Nfg7MzZSHxYL",
        "outputId": "f5e9b100-b7aa-40ed-f8d5-eeda2a9172ed"
      },
      "execution_count": null,
      "outputs": [
        {
          "output_type": "stream",
          "name": "stdout",
          "text": [
            "Enter a number :121\n",
            "Reverse number is :  121\n",
            "It is a palliandome number\n"
          ]
        }
      ]
    },
    {
      "cell_type": "markdown",
      "source": [
        "7.To check number is armstrong or not"
      ],
      "metadata": {
        "id": "bM3Rh35-H42v"
      }
    },
    {
      "cell_type": "code",
      "source": [
        "num=int(input('Enter a Number: '))\n",
        "temp=num\n",
        "temp2=num\n",
        "c=0\n",
        "sum=0\n",
        "while(temp!=0):\n",
        "  c=c+1\n",
        "  temp=temp//10\n",
        "while(temp2!=0):\n",
        "  x=temp2%10\n",
        "  sum=sum + pow(x,c)\n",
        "  temp2=temp2//10\n",
        "if(num==sum):\n",
        "  print(num,' is an amstrong number')\n",
        "else:\n",
        "  print(num,' is not an amstrong number')"
      ],
      "metadata": {
        "colab": {
          "base_uri": "https://localhost:8080/"
        },
        "id": "Z8hNC_SlH-v4",
        "outputId": "682cd515-dd37-4f8e-8e37-70e823aac1ae"
      },
      "execution_count": null,
      "outputs": [
        {
          "output_type": "stream",
          "name": "stdout",
          "text": [
            "Enter a Number: 729\n",
            "729  is not an amstrong number\n"
          ]
        }
      ]
    },
    {
      "cell_type": "markdown",
      "source": [
        "8.Evaluate 'x'"
      ],
      "metadata": {
        "id": "-upg69ENIHgG"
      }
    },
    {
      "cell_type": "code",
      "source": [
        ""
      ],
      "metadata": {
        "id": "cXNL17NNINbH"
      },
      "execution_count": null,
      "outputs": []
    },
    {
      "cell_type": "code",
      "source": [
        "x=int(input('Enter the number : '))\n",
        "n=int(input('Enter the power : '))\n",
        "p=1\n",
        "c=0\n",
        "while(c!=n):\n",
        "  p=p*x\n",
        "  c=c+1\n",
        "print('X^n : ',p)"
      ],
      "metadata": {
        "colab": {
          "base_uri": "https://localhost:8080/"
        },
        "id": "2unt6NGUINhV",
        "outputId": "7302a003-e7bd-41cf-9e85-2a725fc48b95"
      },
      "execution_count": null,
      "outputs": [
        {
          "output_type": "stream",
          "name": "stdout",
          "text": [
            "Enter the number : 4\n",
            "Enter the power : 2\n",
            "X^n :  16\n"
          ]
        }
      ]
    },
    {
      "cell_type": "markdown",
      "source": [
        "9.To print first odd numbers"
      ],
      "metadata": {
        "id": "sOKjDDV9IU57"
      }
    },
    {
      "cell_type": "code",
      "source": [
        "f=1\n",
        "c=0\n",
        "n=int(input('Enter the number : '))\n",
        "while(c!=n):\n",
        "  print(f)\n",
        "  c=c+1\n",
        "  f=f+2"
      ],
      "metadata": {
        "colab": {
          "base_uri": "https://localhost:8080/"
        },
        "id": "qUc-rpwlIaVC",
        "outputId": "21de2490-44a0-4586-ea13-396b976e93b4"
      },
      "execution_count": null,
      "outputs": [
        {
          "output_type": "stream",
          "name": "stdout",
          "text": [
            "Enter the number : 10\n",
            "1\n",
            "3\n",
            "5\n",
            "7\n",
            "9\n",
            "11\n",
            "13\n",
            "15\n",
            "17\n",
            "19\n"
          ]
        }
      ]
    },
    {
      "cell_type": "markdown",
      "source": [
        "10.To print GCD of 2 numbers"
      ],
      "metadata": {
        "id": "xeyzcLJVIiN6"
      }
    },
    {
      "cell_type": "code",
      "source": [
        "n1=int(input('Enter the first number : '))\n",
        "n2=int(input('Enter the second number : '))\n",
        "gcd=0\n",
        "c=0\n",
        "while(c<n1):\n",
        "  c=c+1\n",
        "  if(n1%c==0 and n2%c==0):\n",
        "    gcd=c\n",
        "if(gcd==0):\n",
        "  print('No GCD')\n",
        "else:\n",
        "  print('GCD is : ',gcd)"
      ],
      "metadata": {
        "colab": {
          "base_uri": "https://localhost:8080/"
        },
        "id": "s5pzUyFPIpUW",
        "outputId": "8747fe8d-e348-429f-aa31-2ba404703a1a"
      },
      "execution_count": null,
      "outputs": [
        {
          "output_type": "stream",
          "name": "stdout",
          "text": [
            "Enter the first number : 16\n",
            "Enter the second number : 9\n",
            "GCD is :  1\n"
          ]
        }
      ]
    },
    {
      "cell_type": "markdown",
      "source": [
        "11.To print factorial of a given number"
      ],
      "metadata": {
        "id": "zZzoN47vI1S2"
      }
    },
    {
      "cell_type": "code",
      "source": [
        "num=int(input('Enter the number : '))\n",
        "n=1\n",
        "if(num==0):\n",
        "  print('Factorial of the number is 1')\n",
        "else:\n",
        "  while(num>1):\n",
        "    n=n*num\n",
        "    num=num-1\n",
        "  print('Factorial of the number is : ',n)"
      ],
      "metadata": {
        "colab": {
          "base_uri": "https://localhost:8080/"
        },
        "id": "gzt5u-3pI66n",
        "outputId": "c3b834b2-5099-4f99-f11a-4d47d2d1f0b5"
      },
      "execution_count": null,
      "outputs": [
        {
          "output_type": "stream",
          "name": "stdout",
          "text": [
            "Enter the number : 21\n",
            "Factorial of the number is :  51090942171709440000\n"
          ]
        }
      ]
    },
    {
      "cell_type": "markdown",
      "source": [
        "12.To print squares of natural numbers between 2 numbers"
      ],
      "metadata": {
        "id": "aaa6LNaKJB7g"
      }
    },
    {
      "cell_type": "code",
      "source": [
        "num1=int(input('Enter the first number : '))\n",
        "num2=int(input('Enter the last number : '))\n",
        "while(num1<=num2):\n",
        "  sqr=num1*num1\n",
        "  num1=num1+1\n",
        "  print(sqr)"
      ],
      "metadata": {
        "colab": {
          "base_uri": "https://localhost:8080/"
        },
        "id": "_VymYGk9JKV2",
        "outputId": "6d67374f-6e6d-41ed-f3bf-e7d41aa1f965"
      },
      "execution_count": null,
      "outputs": [
        {
          "output_type": "stream",
          "name": "stdout",
          "text": [
            "Enter the first number : 2\n",
            "Enter the last number : 10\n",
            "4\n",
            "9\n",
            "16\n",
            "25\n",
            "36\n",
            "49\n",
            "64\n",
            "81\n",
            "100\n"
          ]
        }
      ]
    },
    {
      "cell_type": "markdown",
      "source": [
        "13.Program to find the sum of the given series, up to n terms. S = 1 - 4 + 9 - 16 + ....\n",
        "\n"
      ],
      "metadata": {
        "id": "YxCYMJ2fJT8M"
      }
    },
    {
      "cell_type": "code",
      "source": [
        "n=int(input('Enter the number of terms : '))\n",
        "c=1\n",
        "sum=0\n",
        "sign=1\n",
        "while(c<=n):\n",
        "  temp=sign*(c**2)\n",
        "  sum=sum+temp\n",
        "  sign=sign*(-1)\n",
        "  c=c+1\n",
        "print('Toyal sum is : ',sum)\n"
      ],
      "metadata": {
        "colab": {
          "base_uri": "https://localhost:8080/"
        },
        "id": "6EEQ3i-xJZHQ",
        "outputId": "5ec341e1-825d-4c81-9d54-46622a9f5442"
      },
      "execution_count": null,
      "outputs": [
        {
          "output_type": "stream",
          "name": "stdout",
          "text": [
            "Enter the number of terms : 5\n",
            "Toyal sum is :  15\n"
          ]
        }
      ]
    },
    {
      "cell_type": "markdown",
      "source": [
        "14.Program to check whether a given number is Automorphic or not."
      ],
      "metadata": {
        "id": "-OI23lfoJlJn"
      }
    },
    {
      "cell_type": "code",
      "source": [
        "num=int(input('Enter the num : '))\n",
        "c=0\n",
        "sqr=num*num\n",
        "temp=num\n",
        "while(temp>=1):\n",
        "  c=c+1\n",
        "  temp=temp//10\n",
        "if(num==sqr%10**c):\n",
        "  print(num,' is Automorphic')\n",
        "else:\n",
        "  print(num,' is not Auotomorphic')"
      ],
      "metadata": {
        "colab": {
          "base_uri": "https://localhost:8080/"
        },
        "id": "39jUosN6Jpch",
        "outputId": "800579ec-4a3a-4827-c663-17ffcce4c2a2"
      },
      "execution_count": null,
      "outputs": [
        {
          "output_type": "stream",
          "name": "stdout",
          "text": [
            "Enter the num : 6\n",
            "6  is Automorphic\n"
          ]
        }
      ]
    },
    {
      "cell_type": "markdown",
      "source": [
        "15.Program to read a binary number and print its decimal equivalent."
      ],
      "metadata": {
        "id": "ugKq29hgJ-Qe"
      }
    },
    {
      "cell_type": "code",
      "source": [
        "bi=int(input('Enter the binary number : '))\n",
        "c=0\n",
        "deci=0\n",
        "while(bi>=1):\n",
        "  remn=bi%10\n",
        "  bi=bi//10\n",
        "  deci=deci+remn*2**c\n",
        "  c=c+1\n",
        "print('Dcimal number is : ',deci)"
      ],
      "metadata": {
        "colab": {
          "base_uri": "https://localhost:8080/"
        },
        "id": "ItrH0Dp3KCT6",
        "outputId": "abe95027-f2b3-438b-a44d-cfb60048b982"
      },
      "execution_count": null,
      "outputs": [
        {
          "output_type": "stream",
          "name": "stdout",
          "text": [
            "Enter the binary number : 10001\n",
            "Dcimal number is :  17\n"
          ]
        }
      ]
    }
  ]
}