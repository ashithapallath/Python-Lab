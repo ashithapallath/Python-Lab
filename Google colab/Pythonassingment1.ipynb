{
  "nbformat": 4,
  "nbformat_minor": 0,
  "metadata": {
    "colab": {
      "name": "Pythonassingment1.ipynb",
      "provenance": []
    },
    "kernelspec": {
      "name": "python3",
      "display_name": "Python 3"
    },
    "language_info": {
      "name": "python"
    }
  },
  "cells": [
    {
      "cell_type": "markdown",
      "source": [
        "1.Write a program to print average of three numbers"
      ],
      "metadata": {
        "id": "HPRqqSdd8Xs5"
      }
    },
    {
      "cell_type": "code",
      "source": [
        "a=int(input('Enter first number:'))\n",
        "b=int(input('Enter second number:'))\n",
        "c=int(input('Enter third number:'))\n",
        "avg=(a+b+c)/3\n",
        "print(\"Average= \" ,avg)"
      ],
      "metadata": {
        "colab": {
          "base_uri": "https://localhost:8080/"
        },
        "id": "5mbJbP-l87qw",
        "outputId": "c6aab539-5044-4e6b-e5b7-82d5a0e713c8"
      },
      "execution_count": 1,
      "outputs": [
        {
          "output_type": "stream",
          "name": "stdout",
          "text": [
            "Enter first number:4\n",
            "Enter second number:7\n",
            "Enter third number:9\n",
            "Average=  6.666666666666667\n"
          ]
        }
      ]
    },
    {
      "cell_type": "markdown",
      "source": [
        "2.Write a program to print sum and average of three numbers"
      ],
      "metadata": {
        "id": "b_vAINTG9yx3"
      }
    },
    {
      "cell_type": "code",
      "source": [
        "a=int(input('Enter first number:'))\n",
        "b=int(input('Enter second number:'))\n",
        "c=int(input('Enter third number:'))\n",
        "sum=a+b+c\n",
        "avg=(a+b+c)/3 \n",
        "print(\"Sum= \",sum)\n",
        "print(\"Average= \" ,avg)\n",
        "\n"
      ],
      "metadata": {
        "colab": {
          "base_uri": "https://localhost:8080/"
        },
        "id": "UimiIV6H98zi",
        "outputId": "e372ba51-8d60-40d8-ae58-c2240cf9741a"
      },
      "execution_count": 2,
      "outputs": [
        {
          "output_type": "stream",
          "name": "stdout",
          "text": [
            "Enter first number:4\n",
            "Enter second number:8\n",
            "Enter third number:10\n",
            "Sum=  22\n",
            "Average=  7.333333333333333\n"
          ]
        }
      ]
    },
    {
      "cell_type": "markdown",
      "source": [
        "3.Write a program to print area and perimeter of a traingle"
      ],
      "metadata": {
        "id": "BI1xngrL-bSG"
      }
    },
    {
      "cell_type": "code",
      "source": [
        "a=int(input('Length of first side:'))\n",
        "b=int(input('Length of second side:'))\n",
        "c=int(input('Length of third side:'))\n",
        "perimter=(a+b+c)\n",
        "p=(a+b+c)/2\n",
        "sum=((p*(p-a)*(p-b)*(p-c)))\n",
        "area=sum**0.5\n",
        "print(\"PERIMETER OF A TRAINGLE:\",perimeter)\n",
        "print(\"AREA OF A TRAINGLE:\",area)\n"
      ],
      "metadata": {
        "colab": {
          "base_uri": "https://localhost:8080/"
        },
        "id": "i1r17OU5COiW",
        "outputId": "da255c48-8b0f-45e6-9d99-fb03934f467f"
      },
      "execution_count": 11,
      "outputs": [
        {
          "output_type": "stream",
          "name": "stdout",
          "text": [
            "Length of first side:8\n",
            "Length of second side:9\n",
            "Length of third side:7\n",
            "PERIMETER OF A TRAINGLE: 21\n",
            "AREA OF A TRAINGLE: 26.832815729997478\n"
          ]
        }
      ]
    },
    {
      "cell_type": "markdown",
      "source": [
        "4.Write a program to convert the time entered in seconds to hours,minutes,seconds"
      ],
      "metadata": {
        "id": "HwfeMtPnEx6w"
      }
    },
    {
      "cell_type": "code",
      "source": [
        "numberOfSeconds=float(input('Enter the number of seconds:'))\n",
        "seconds=numberOfSeconds\n",
        "minutes=seconds/60\n",
        "hours=minutes/60\n",
        "print(\"Given value in hours is:\",hours)\n",
        "print(\"Given value in minutes is:\",minutes)\n",
        "print(\"Given value in seconds is:\",seconds)\n"
      ],
      "metadata": {
        "colab": {
          "base_uri": "https://localhost:8080/"
        },
        "id": "q2-qsghLFAql",
        "outputId": "495b75b3-bbf1-401a-e989-87c8fc6a4e63"
      },
      "execution_count": 12,
      "outputs": [
        {
          "output_type": "stream",
          "name": "stdout",
          "text": [
            "Enter the number of seconds:60\n",
            "Given value in hours is: 0.016666666666666666\n",
            "Given value in minutes is: 1.0\n",
            "Given value in seconds is: 60.0\n"
          ]
        }
      ]
    },
    {
      "cell_type": "markdown",
      "source": [
        "5.Write a program to print area of a circle"
      ],
      "metadata": {
        "id": "paDSRmQtGFK8"
      }
    },
    {
      "cell_type": "code",
      "source": [
        "r=int(input('Enter radius of circle:'))\n",
        "area=3.14*r*r\n",
        "print(\"Area of circle is \",area)"
      ],
      "metadata": {
        "colab": {
          "base_uri": "https://localhost:8080/"
        },
        "id": "TXfwzBRRGauV",
        "outputId": "25c87cda-7932-49f9-b949-44ef4ef0effb"
      },
      "execution_count": 13,
      "outputs": [
        {
          "output_type": "stream",
          "name": "stdout",
          "text": [
            "Enter radius of circle:6\n",
            "Area of circle is  113.03999999999999\n"
          ]
        }
      ]
    },
    {
      "cell_type": "markdown",
      "source": [
        "6.Write a program to enter two unequal number and interchange them without using third variable"
      ],
      "metadata": {
        "id": "bbGn7egEHgqg"
      }
    },
    {
      "cell_type": "code",
      "source": [
        "a=int(input('Enter first number:'))\n",
        "b=int(input('Enter second number:'))\n",
        "print(\"a=\",a)\n",
        "print(\"b=\",b)\n",
        "a=a+b\n",
        "b=a-b\n",
        "a=a-b\n",
        "print(\"After swapping:\",a,b)"
      ],
      "metadata": {
        "colab": {
          "base_uri": "https://localhost:8080/"
        },
        "id": "wbVzMx0_HvL8",
        "outputId": "26501d82-4e7d-4fe7-d8f6-24aba71891ce"
      },
      "execution_count": 14,
      "outputs": [
        {
          "output_type": "stream",
          "name": "stdout",
          "text": [
            "Enter first number:3\n",
            "Enter second number:2\n",
            "a= 3\n",
            "b= 2\n",
            "After swapping: 2 3\n"
          ]
        }
      ]
    },
    {
      "cell_type": "markdown",
      "source": [
        "7.Write a program to enter the number of days and display into years,months,and days"
      ],
      "metadata": {
        "id": "ugZQ4xrUIZ1L"
      }
    },
    {
      "cell_type": "code",
      "source": [
        "numberOfDays=int(input('Enter the number of days:'))\n",
        "days=numberOfDays\n",
        "months=numberOfDays/30.417\n",
        "years=numberOfDays/365\n",
        "print(\"Enter value in days:\",days)\n",
        "print(\"Enter value in months:\",months)\n",
        "print(\"Enter value in years:\",years)"
      ],
      "metadata": {
        "colab": {
          "base_uri": "https://localhost:8080/"
        },
        "id": "KR8li5ztIq6G",
        "outputId": "e1be36ad-c5c1-4257-e7e4-4df32e48ba75"
      },
      "execution_count": 15,
      "outputs": [
        {
          "output_type": "stream",
          "name": "stdout",
          "text": [
            "Enter the number of days:30\n",
            "Enter value in days: 30\n",
            "Enter value in months: 0.9862905611993292\n",
            "Enter value in years: 0.0821917808219178\n"
          ]
        }
      ]
    },
    {
      "cell_type": "markdown",
      "source": [
        "8.Write a program to display sum,difference,product,quotient and remainder"
      ],
      "metadata": {
        "id": "mFoUI2UVJn4F"
      }
    },
    {
      "cell_type": "code",
      "source": [
        "a=int(input('Enter first number:'))\n",
        "b=int(input('Enter second number:'))\n",
        "sum=a+b\n",
        "difference=a-b\n",
        "product=a*b\n",
        "quotient=a/b\n",
        "remainder=a%b\n",
        "print(\"SUM IS:\",sum)\n",
        "print(\"DIFFERENCE IS:\",difference)\n",
        "print(\"PRODUCT IS:\",product)\n",
        "print(\"QUOTIENT IS:\",quotient)\n",
        "print(\"REMAINDER IS:\",remainder)"
      ],
      "metadata": {
        "colab": {
          "base_uri": "https://localhost:8080/"
        },
        "id": "pE_yAtcmJ2FN",
        "outputId": "98fba93c-22d2-4051-e36d-382ea6312cb7"
      },
      "execution_count": 16,
      "outputs": [
        {
          "output_type": "stream",
          "name": "stdout",
          "text": [
            "Enter first number:6\n",
            "Enter second number:7\n",
            "SUM IS: 13\n",
            "DIFFERENCE IS: -1\n",
            "PRODUCT IS: 42\n",
            "QUOTIENT IS: 0.8571428571428571\n",
            "REMAINDER IS: 6\n"
          ]
        }
      ]
    }
  ]
}