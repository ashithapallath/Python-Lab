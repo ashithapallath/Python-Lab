{
  "nbformat": 4,
  "nbformat_minor": 0,
  "metadata": {
    "colab": {
      "name": "Untitled7.ipynb",
      "provenance": []
    },
    "kernelspec": {
      "name": "python3",
      "display_name": "Python 3"
    },
    "language_info": {
      "name": "python"
    }
  },
  "cells": [
    {
      "cell_type": "markdown",
      "source": [
        "1.Biggest of 2 numbers"
      ],
      "metadata": {
        "id": "sMI2EFI7ByFN"
      }
    },
    {
      "cell_type": "code",
      "source": [
        "a=int(input('Enter the first number : '))\n",
        "b=int(input('Enter the second number : '))\n",
        "if(a>b):\n",
        "  print('Greatest number is ',a)\n",
        "else:\n",
        "  print('Greatest number is ',b)"
      ],
      "metadata": {
        "colab": {
          "base_uri": "https://localhost:8080/"
        },
        "id": "pjpKlS2zB2Ea",
        "outputId": "f00fa044-a8f8-4c41-ca1e-4683c1594edb"
      },
      "execution_count": 1,
      "outputs": [
        {
          "output_type": "stream",
          "name": "stdout",
          "text": [
            "Enter the first number : 6\n",
            "Enter the second number : 7\n",
            "Greatest number is  7\n"
          ]
        }
      ]
    },
    {
      "cell_type": "markdown",
      "source": [
        "2.Smallest of 3 numbers"
      ],
      "metadata": {
        "id": "StPH7aA1C68u"
      }
    },
    {
      "cell_type": "code",
      "source": [
        "a=int(input('Enter the first numer :'))\n",
        "b=int(input('Ente the second number :'))\n",
        "c=int(input('Enter the third number :'))\n",
        "if(a>b):\n",
        "  if(b>c):\n",
        "    print('Smallest number is :',c)\n",
        "  else:\n",
        "    print('Smallest number is :',b)\n",
        "elif(a>c):\n",
        "  print('Smallest number is ',c)\n",
        "else:\n",
        "  print('Smallest number is :',a)"
      ],
      "metadata": {
        "colab": {
          "base_uri": "https://localhost:8080/"
        },
        "id": "JfLpN_gIDKWG",
        "outputId": "64ad0e78-f3a2-4c24-ed84-86520b0d68f7"
      },
      "execution_count": 2,
      "outputs": [
        {
          "output_type": "stream",
          "name": "stdout",
          "text": [
            "Enter the first numer :5\n",
            "Ente the second number :9\n",
            "Enter the third number :10\n",
            "Smallest number is : 5\n"
          ]
        }
      ]
    },
    {
      "cell_type": "markdown",
      "source": [
        "3.Distance between two points"
      ],
      "metadata": {
        "id": "peP4XXksDTom"
      }
    },
    {
      "cell_type": "code",
      "source": [
        "a=int(input('Enter the number :'))\n",
        "b=int(input('Ente the number :'))\n",
        "if(a>b):\n",
        "  print('Distance = ',a-b)\n",
        "else:\n",
        "  print('Distance = ',b-a)"
      ],
      "metadata": {
        "colab": {
          "base_uri": "https://localhost:8080/"
        },
        "id": "WiexJA8BDaya",
        "outputId": "c35a28dd-1147-49c5-b6a1-90b1aa2f921d"
      },
      "execution_count": 3,
      "outputs": [
        {
          "output_type": "stream",
          "name": "stdout",
          "text": [
            "Enter the number :4\n",
            "Ente the number :8\n",
            "Distance =  4\n"
          ]
        }
      ]
    },
    {
      "cell_type": "markdown",
      "source": [
        "4.A number is 2 digit or not"
      ],
      "metadata": {
        "id": "gY0i9vHpDf5Z"
      }
    },
    {
      "cell_type": "code",
      "source": [
        "a=int(input('Enter a number :'))\n",
        "if(9<a<100):\n",
        "  print(a,' is a two digit number')\n",
        "else:\n",
        "  print(a,' is not a two digit number')"
      ],
      "metadata": {
        "colab": {
          "base_uri": "https://localhost:8080/"
        },
        "id": "tK_P-76nDr45",
        "outputId": "4d49a7ee-4ee7-404c-88dc-8119b5d18259"
      },
      "execution_count": 4,
      "outputs": [
        {
          "output_type": "stream",
          "name": "stdout",
          "text": [
            "Enter a number :23\n",
            "23  is a two digit number\n"
          ]
        }
      ]
    },
    {
      "cell_type": "markdown",
      "source": [
        "5.A number is -ve,+ve or zero"
      ],
      "metadata": {
        "id": "l4-bXSCADzNu"
      }
    },
    {
      "cell_type": "code",
      "source": [
        "a=int(input('Enter a number'))\n",
        "if(a==0):\n",
        "  print('Given number is zero')\n",
        "elif(a>0):\n",
        "  print('Given number is positive')\n",
        "else:\n",
        "  print('Given number is negative')"
      ],
      "metadata": {
        "colab": {
          "base_uri": "https://localhost:8080/"
        },
        "id": "1wGR5NbYD86W",
        "outputId": "3104cc10-4ee8-4efc-e0cf-06923bd1758c"
      },
      "execution_count": 8,
      "outputs": [
        {
          "output_type": "stream",
          "name": "stdout",
          "text": [
            "Enter a number-8\n",
            "Given number is negative\n"
          ]
        }
      ]
    },
    {
      "cell_type": "markdown",
      "source": [
        "6.A number is multiple of another"
      ],
      "metadata": {
        "id": "1cgXcAHYEMX8"
      }
    },
    {
      "cell_type": "code",
      "source": [
        "a=int(input('Enter a number'))\n",
        "b=int(input('Enter a number'))\n",
        "if( a%b==0):\n",
        "  print(a,' is multiple of ',b)\n",
        "else:\n",
        "  print(a,' is not a multiple of ',b)\n",
        "if(b%a==0):\n",
        "  print(b,' is a multiple of ',a)\n",
        "else:\n",
        "  print(b,' is not a muiltiple of ',a)"
      ],
      "metadata": {
        "colab": {
          "base_uri": "https://localhost:8080/"
        },
        "id": "X2h5FF27ETdG",
        "outputId": "6d59345a-798b-4fa1-d599-a770f3fa656c"
      },
      "execution_count": 9,
      "outputs": [
        {
          "output_type": "stream",
          "name": "stdout",
          "text": [
            "Enter a number4\n",
            "Enter a number8\n",
            "4  is not a multiple of  8\n",
            "8  is a multiple of  4\n"
          ]
        }
      ]
    },
    {
      "cell_type": "markdown",
      "source": [
        "7.For finding smallest digit in a two digit number"
      ],
      "metadata": {
        "id": "Gr6hGFNlEcbG"
      }
    },
    {
      "cell_type": "code",
      "source": [
        "a=int(input('Enter a number :'))\n",
        "b=a%10\n",
        "c=int(a/10)\n",
        "if(b>c):\n",
        "  print(c,' is the smallest digit in ',a)\n",
        "else:\n",
        "  print(b,' is the smallest digit in ',a)"
      ],
      "metadata": {
        "colab": {
          "base_uri": "https://localhost:8080/"
        },
        "id": "fcP34C6vEqa9",
        "outputId": "b7bf5dd8-7b43-4752-d34b-54a1d3175ca2"
      },
      "execution_count": 11,
      "outputs": [
        {
          "output_type": "stream",
          "name": "stdout",
          "text": [
            "Enter a number :34\n",
            "3  is the smallest digit in  34\n"
          ]
        }
      ]
    },
    {
      "cell_type": "markdown",
      "source": [
        "8.Nature of solution of quadractic equation"
      ],
      "metadata": {
        "id": "qYAoZyozEvPH"
      }
    },
    {
      "cell_type": "code",
      "source": [
        "a=int(input('Entr the coefficient of x^2'))\n",
        "b=int(input('Enter the coeffient of x'))\n",
        "c=int(input('Enter the constant c'))\n",
        "if(b**2-4*a*c>=0):\n",
        "  if(b**2-4*a*c==0):\n",
        "    print('Same real root')\n",
        "  else:\n",
        "    print('Different real roots')\n",
        "else:\n",
        "  print('Roots are imagery')"
      ],
      "metadata": {
        "colab": {
          "base_uri": "https://localhost:8080/"
        },
        "id": "sQ7brF-bE9WO",
        "outputId": "5f8d90d9-dfec-4fba-cd4c-d87d42878586"
      },
      "execution_count": 12,
      "outputs": [
        {
          "output_type": "stream",
          "name": "stdout",
          "text": [
            "Entr the coefficient of x^24\n",
            "Enter the coeffient of x2\n",
            "Enter the constant c7\n",
            "Roots are imagery\n"
          ]
        }
      ]
    }
  ]
}